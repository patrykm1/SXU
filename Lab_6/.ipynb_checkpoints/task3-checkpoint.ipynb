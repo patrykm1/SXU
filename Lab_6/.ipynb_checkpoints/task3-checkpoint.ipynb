{
 "cells": [
  {
   "cell_type": "code",
   "execution_count": 1,
   "metadata": {},
   "outputs": [],
   "source": [
    "import numpy as np\n",
    "import pandas as pd\n",
    "import io\n",
    "import os\n",
    "import regex\n",
    "import eventlet\n",
    "from eventlet.green.urllib import request\n",
    "from sklearn import metrics\n",
    "from sklearn.feature_extraction.text import  CountVectorizer\n",
    "from sklearn.model_selection import train_test_split\n",
    "from sklearn.linear_model import LogisticRegression, LogisticRegressionCV\n",
    "from sklearn.model_selection import train_test_split, cross_val_score\n",
    "from sklearn.pipeline import make_pipeline, Pipeline"
   ]
  },
  {
   "cell_type": "code",
   "execution_count": 2,
   "metadata": {},
   "outputs": [],
   "source": [
    "#pobranie tresci ksiazki\n",
    "book_files={\n",
    " \"Mickiewicz\": [\n",
    " \"https://wolnelektury.pl/media/book/txt/pan-tadeusz.txt\",\n",
    " \"https://wolnelektury.pl/media/book/txt/dziady-dziady-widowisko-czesc-i.txt\",\n",
    " \"https://wolnelektury.pl/media/book/txt/dziady-dziadow-czesci-iii-ustep-do-przyjaciol-moskali.txt\",\n",
    " \"https://wolnelektury.pl/media/book/txt/ballady-i-romanse-pani-twardowska.txt\",\n",
    " \"https://wolnelektury.pl/media/book/txt/ballady-i-romanse-powrot-taty.txt\",\n",
    " \"https://wolnelektury.pl/media/book/txt/ballady-i-romanse-switez.txt\",\n",
    " \"https://wolnelektury.pl/media/book/txt/dziady-dziady-poema-dziady-czesc-iv.txt\",\n",
    " ],\n",
    " \"Sienkiewicz\": [\n",
    " \"https://wolnelektury.pl/media/book/txt/quo-vadis.txt\",\n",
    " \"https://wolnelektury.pl/media/book/txt/sienkiewicz-we-mgle.txt\",\n",
    " \"https://wolnelektury.pl/media/book/txt/potop-tom-pierwszy.txt\",\n",
    " \"https://wolnelektury.pl/media/book/txt/potop-tom-drugi.txt\",\n",
    " \"https://wolnelektury.pl/media/book/txt/potop-tom-trzeci.txt\",\n",
    " ],\n",
    " \"Orzeszkowa\": [\n",
    " \"https://wolnelektury.pl/media/book/txt/orzeszkowa-kto-winien.txt\",\n",
    " \"https://wolnelektury.pl/media/book/txt/nad-niemnem-tom-pierwszy.txt\",\n",
    " \"https://wolnelektury.pl/media/book/txt/nad-niemnem-tom-drugi.txt\",\n",
    " \"https://wolnelektury.pl/media/book/txt/nad-niemnem-tom-trzeci.txt\",\n",
    " \"https://wolnelektury.pl/media/book/txt/gloria-victis-dziwna-historia.txt\",\n",
    " \"https://wolnelektury.pl/media/book/txt/z-pozogi.txt\",\n",
    " \"https://wolnelektury.pl/media/book/txt/pani-dudkowa.txt\",\n",
    " \"https://wolnelektury.pl/media/book/txt/dymy.txt\",\n",
    " \"https://wolnelektury.pl/media/book/txt/syn-stolarza.txt\",\n",
    " \"https://wolnelektury.pl/media/book/txt/dobra-pani.txt\",\n",
    " \"https://wolnelektury.pl/media/book/txt/cnotliwi.txt\",\n",
    " \"https://wolnelektury.pl/media/book/txt/kilka-slow-o-kobietach.txt\",\n",
    " \"https://wolnelektury.pl/media/book/txt/patryotyzm-i-kosmopolityzm.txt\",\n",
    " \"https://wolnelektury.pl/media/book/txt/julianka.txt\",\n",
    " ],\n",
    " \"Prus\": [\n",
    " \"https://wolnelektury.pl/media/book/txt/lalka-tom-drugi.txt\",\n",
    " \"https://wolnelektury.pl/media/book/txt/lalka-tom-pierwszy.txt\",\n",
    " \"https://wolnelektury.pl/media/book/txt/antek.txt\",\n",
    " \"https://wolnelektury.pl/media/book/txt/katarynka.txt\",\n",
    " \"https://wolnelektury.pl/media/book/txt/prus-anielka.txt\",\n",
    " \"https://wolnelektury.pl/media/book/txt/prus-placowka.txt\",\n",
    " \n",
    " ],\n",
    " \"Reymont\": [\n",
    " \"https://wolnelektury.pl/media/book/txt/ziemia-obiecana-tom-pierwszy.txt\",\n",
    " \"https://wolnelektury.pl/media/book/txt/chlopi-czesc-pierwsza-jesien.txt\",\n",
    " \"https://wolnelektury.pl/media/book/txt/reymont-chlopi-zima.txt\",\n",
    " \"https://wolnelektury.pl/media/book/txt/chlopi-czesc-trzecia-wiosna.txt\",\n",
    " \"https://wolnelektury.pl/media/book/txt/chlopi-czesc-czwarta-lato.txt\",\n",
    " ]\n",
    "}"
   ]
  },
  {
   "cell_type": "code",
   "execution_count": 4,
   "metadata": {},
   "outputs": [
    {
     "name": "stdout",
     "output_type": "stream",
     "text": [
      "Zrobione\n"
     ]
    }
   ],
   "source": [
    "def fetch(url):\n",
    "    file_path = os.path.join('data',os.path.basename(url))\n",
    "    if os.path.exists(file_path):\n",
    "        return None,None\n",
    "    data = request.urlopen(url).read()\n",
    "    return file_path, data\n",
    "\n",
    "for author in book_files:\n",
    "    pool = eventlet.GreenPool()\n",
    "    \n",
    "    for file_path, data in pool.imap(fetch, book_files[author]):\n",
    "        if file_path:\n",
    "            with open(file_path,mode='wb') as f:\n",
    "                f.write(data)\n",
    "print('Zrobione')"
   ]
  },
  {
   "cell_type": "code",
   "execution_count": 5,
   "metadata": {},
   "outputs": [
    {
     "data": {
      "text/html": [
       "<div>\n",
       "<style scoped>\n",
       "    .dataframe tbody tr th:only-of-type {\n",
       "        vertical-align: middle;\n",
       "    }\n",
       "\n",
       "    .dataframe tbody tr th {\n",
       "        vertical-align: top;\n",
       "    }\n",
       "\n",
       "    .dataframe thead th {\n",
       "        text-align: right;\n",
       "    }\n",
       "</style>\n",
       "<table border=\"1\" class=\"dataframe\">\n",
       "  <thead>\n",
       "    <tr style=\"text-align: right;\">\n",
       "      <th></th>\n",
       "      <th>author</th>\n",
       "      <th>txt</th>\n",
       "    </tr>\n",
       "  </thead>\n",
       "  <tbody>\n",
       "    <tr>\n",
       "      <td>0</td>\n",
       "      <td>Mickiewicz</td>\n",
       "      <td>adam mickiewicz pan tadeusz czyli ostatni zaja...</td>\n",
       "    </tr>\n",
       "    <tr>\n",
       "      <td>1</td>\n",
       "      <td>Mickiewicz</td>\n",
       "      <td>ojczyzno moja</td>\n",
       "    </tr>\n",
       "    <tr>\n",
       "      <td>2</td>\n",
       "      <td>Mickiewicz</td>\n",
       "      <td>ty jesteś jak zdrowie ile cię trzeba cenić ten...</td>\n",
       "    </tr>\n",
       "    <tr>\n",
       "      <td>3</td>\n",
       "      <td>Mickiewicz</td>\n",
       "      <td>dziś piękność twą w całej ozdobie widzę i opis...</td>\n",
       "    </tr>\n",
       "    <tr>\n",
       "      <td>4</td>\n",
       "      <td>Mickiewicz</td>\n",
       "      <td>panno święta co jasnej bronisz częstochowy i w...</td>\n",
       "    </tr>\n",
       "  </tbody>\n",
       "</table>\n",
       "</div>"
      ],
      "text/plain": [
       "       author                                                txt\n",
       "0  Mickiewicz  adam mickiewicz pan tadeusz czyli ostatni zaja...\n",
       "1  Mickiewicz                                      ojczyzno moja\n",
       "2  Mickiewicz  ty jesteś jak zdrowie ile cię trzeba cenić ten...\n",
       "3  Mickiewicz  dziś piękność twą w całej ozdobie widzę i opis...\n",
       "4  Mickiewicz  panno święta co jasnej bronisz częstochowy i w..."
      ]
     },
     "execution_count": 5,
     "metadata": {},
     "output_type": "execute_result"
    }
   ],
   "source": [
    "def preprocess_file(file_path=None, file_url=None):\n",
    "    if not file_path and file_url:\n",
    "        file_path = os.path.join(\"data\",os.path.basename(file_url))\n",
    "        \n",
    "    text = open(file_path,'rb').read().decode(\"utf-8\").lower()\n",
    "\n",
    "    #wykorzystanie wyrazen regularnych do obrobki zdan (male litery,spacje,stopki)\n",
    "    text = regex.sub(u\"[^ \\n\\p{Latin}\\-'.?!]\", \" \",text)\n",
    "    text = regex.sub(u\"[ \\n]+\", \" \", text)\n",
    "    text = regex.sub(r\"----- ta lektura.*\",\"\", text)\n",
    "\n",
    "    return [regex.sub(r\"^ \",\"\",l) for l in regex.split('\\.|,|\\?|!|:',text)]\n",
    "\n",
    "\n",
    "def get_book_df(document, author):\n",
    "    return pd.DataFrame({\n",
    "        'author': pd.Series(len(document)*[author]),\n",
    "        'txt': pd.Series(document),\n",
    "    })\n",
    "    \n",
    "book_lines_df = pd.concat([\n",
    "    get_book_df(preprocess_file(file_url=url),author=author) \n",
    "        for author in book_files for url in book_files[author] \n",
    "])\n",
    "\n",
    "book_lines_df.head()"
   ]
  },
  {
   "cell_type": "code",
   "execution_count": 6,
   "metadata": {},
   "outputs": [
    {
     "data": {
      "text/html": [
       "<div>\n",
       "<style scoped>\n",
       "    .dataframe tbody tr th:only-of-type {\n",
       "        vertical-align: middle;\n",
       "    }\n",
       "\n",
       "    .dataframe tbody tr th {\n",
       "        vertical-align: top;\n",
       "    }\n",
       "\n",
       "    .dataframe thead th {\n",
       "        text-align: right;\n",
       "    }\n",
       "</style>\n",
       "<table border=\"1\" class=\"dataframe\">\n",
       "  <thead>\n",
       "    <tr style=\"text-align: right;\">\n",
       "      <th></th>\n",
       "      <th>txt</th>\n",
       "    </tr>\n",
       "    <tr>\n",
       "      <th>author</th>\n",
       "      <th></th>\n",
       "    </tr>\n",
       "  </thead>\n",
       "  <tbody>\n",
       "    <tr>\n",
       "      <td>Mickiewicz</td>\n",
       "      <td>5093</td>\n",
       "    </tr>\n",
       "    <tr>\n",
       "      <td>Orzeszkowa</td>\n",
       "      <td>22177</td>\n",
       "    </tr>\n",
       "    <tr>\n",
       "      <td>Prus</td>\n",
       "      <td>31033</td>\n",
       "    </tr>\n",
       "    <tr>\n",
       "      <td>Reymont</td>\n",
       "      <td>24107</td>\n",
       "    </tr>\n",
       "    <tr>\n",
       "      <td>Sienkiewicz</td>\n",
       "      <td>40381</td>\n",
       "    </tr>\n",
       "  </tbody>\n",
       "</table>\n",
       "</div>"
      ],
      "text/plain": [
       "               txt\n",
       "author            \n",
       "Mickiewicz    5093\n",
       "Orzeszkowa   22177\n",
       "Prus         31033\n",
       "Reymont      24107\n",
       "Sienkiewicz  40381"
      ]
     },
     "execution_count": 6,
     "metadata": {},
     "output_type": "execute_result"
    }
   ],
   "source": [
    "book_lines_df.groupby('author').count()"
   ]
  },
  {
   "cell_type": "code",
   "execution_count": 7,
   "metadata": {},
   "outputs": [
    {
     "data": {
      "text/html": [
       "<div>\n",
       "<style scoped>\n",
       "    .dataframe tbody tr th:only-of-type {\n",
       "        vertical-align: middle;\n",
       "    }\n",
       "\n",
       "    .dataframe tbody tr th {\n",
       "        vertical-align: top;\n",
       "    }\n",
       "\n",
       "    .dataframe thead th {\n",
       "        text-align: right;\n",
       "    }\n",
       "</style>\n",
       "<table border=\"1\" class=\"dataframe\">\n",
       "  <thead>\n",
       "    <tr style=\"text-align: right;\">\n",
       "      <th></th>\n",
       "      <th>count</th>\n",
       "      <th>mean</th>\n",
       "      <th>std</th>\n",
       "      <th>min</th>\n",
       "      <th>25%</th>\n",
       "      <th>50%</th>\n",
       "      <th>75%</th>\n",
       "      <th>max</th>\n",
       "    </tr>\n",
       "    <tr>\n",
       "      <th>author</th>\n",
       "      <th></th>\n",
       "      <th></th>\n",
       "      <th></th>\n",
       "      <th></th>\n",
       "      <th></th>\n",
       "      <th></th>\n",
       "      <th></th>\n",
       "      <th></th>\n",
       "    </tr>\n",
       "  </thead>\n",
       "  <tbody>\n",
       "    <tr>\n",
       "      <td>Mickiewicz</td>\n",
       "      <td>5093.0</td>\n",
       "      <td>16.103868</td>\n",
       "      <td>13.951437</td>\n",
       "      <td>0.0</td>\n",
       "      <td>6.0</td>\n",
       "      <td>13.0</td>\n",
       "      <td>23.0</td>\n",
       "      <td>145.0</td>\n",
       "    </tr>\n",
       "    <tr>\n",
       "      <td>Orzeszkowa</td>\n",
       "      <td>22177.0</td>\n",
       "      <td>19.400821</td>\n",
       "      <td>17.257917</td>\n",
       "      <td>0.0</td>\n",
       "      <td>6.0</td>\n",
       "      <td>15.0</td>\n",
       "      <td>27.0</td>\n",
       "      <td>219.0</td>\n",
       "    </tr>\n",
       "    <tr>\n",
       "      <td>Prus</td>\n",
       "      <td>31033.0</td>\n",
       "      <td>12.131537</td>\n",
       "      <td>10.041450</td>\n",
       "      <td>0.0</td>\n",
       "      <td>5.0</td>\n",
       "      <td>10.0</td>\n",
       "      <td>17.0</td>\n",
       "      <td>133.0</td>\n",
       "    </tr>\n",
       "    <tr>\n",
       "      <td>Reymont</td>\n",
       "      <td>24107.0</td>\n",
       "      <td>16.359398</td>\n",
       "      <td>18.880965</td>\n",
       "      <td>0.0</td>\n",
       "      <td>5.0</td>\n",
       "      <td>10.0</td>\n",
       "      <td>21.0</td>\n",
       "      <td>316.0</td>\n",
       "    </tr>\n",
       "    <tr>\n",
       "      <td>Sienkiewicz</td>\n",
       "      <td>40381.0</td>\n",
       "      <td>13.705579</td>\n",
       "      <td>12.038426</td>\n",
       "      <td>0.0</td>\n",
       "      <td>5.0</td>\n",
       "      <td>10.0</td>\n",
       "      <td>19.0</td>\n",
       "      <td>146.0</td>\n",
       "    </tr>\n",
       "  </tbody>\n",
       "</table>\n",
       "</div>"
      ],
      "text/plain": [
       "               count       mean        std  min  25%   50%   75%    max\n",
       "author                                                                 \n",
       "Mickiewicz    5093.0  16.103868  13.951437  0.0  6.0  13.0  23.0  145.0\n",
       "Orzeszkowa   22177.0  19.400821  17.257917  0.0  6.0  15.0  27.0  219.0\n",
       "Prus         31033.0  12.131537  10.041450  0.0  5.0  10.0  17.0  133.0\n",
       "Reymont      24107.0  16.359398  18.880965  0.0  5.0  10.0  21.0  316.0\n",
       "Sienkiewicz  40381.0  13.705579  12.038426  0.0  5.0  10.0  19.0  146.0"
      ]
     },
     "execution_count": 7,
     "metadata": {},
     "output_type": "execute_result"
    }
   ],
   "source": [
    "book_lines_df['words'] = book_lines_df['txt'].apply(\n",
    "    lambda x: len(x.split())\n",
    ")\n",
    "book_lines_df.groupby('author')['words'].describe()"
   ]
  },
  {
   "cell_type": "code",
   "execution_count": 8,
   "metadata": {},
   "outputs": [
    {
     "data": {
      "text/plain": [
       "author\n",
       "Mickiewicz     54.0\n",
       "Orzeszkowa     67.0\n",
       "Prus           39.0\n",
       "Reymont        72.0\n",
       "Sienkiewicz    47.0\n",
       "Name: words, dtype: float64"
      ]
     },
     "execution_count": 8,
     "metadata": {},
     "output_type": "execute_result"
    }
   ],
   "source": [
    "book_lines_df.groupby('author')['words'].quantile(0.98)"
   ]
  },
  {
   "cell_type": "code",
   "execution_count": 9,
   "metadata": {},
   "outputs": [
    {
     "data": {
      "text/html": [
       "<div>\n",
       "<style scoped>\n",
       "    .dataframe tbody tr th:only-of-type {\n",
       "        vertical-align: middle;\n",
       "    }\n",
       "\n",
       "    .dataframe tbody tr th {\n",
       "        vertical-align: top;\n",
       "    }\n",
       "\n",
       "    .dataframe thead th {\n",
       "        text-align: right;\n",
       "    }\n",
       "</style>\n",
       "<table border=\"1\" class=\"dataframe\">\n",
       "  <thead>\n",
       "    <tr style=\"text-align: right;\">\n",
       "      <th></th>\n",
       "      <th>count</th>\n",
       "      <th>mean</th>\n",
       "      <th>std</th>\n",
       "      <th>min</th>\n",
       "      <th>25%</th>\n",
       "      <th>50%</th>\n",
       "      <th>75%</th>\n",
       "      <th>max</th>\n",
       "    </tr>\n",
       "    <tr>\n",
       "      <th>author</th>\n",
       "      <th></th>\n",
       "      <th></th>\n",
       "      <th></th>\n",
       "      <th></th>\n",
       "      <th></th>\n",
       "      <th></th>\n",
       "      <th></th>\n",
       "      <th></th>\n",
       "    </tr>\n",
       "  </thead>\n",
       "  <tbody>\n",
       "    <tr>\n",
       "      <td>Mickiewicz</td>\n",
       "      <td>5079.0</td>\n",
       "      <td>16.148258</td>\n",
       "      <td>13.944973</td>\n",
       "      <td>1.0</td>\n",
       "      <td>6.0</td>\n",
       "      <td>13.0</td>\n",
       "      <td>23.0</td>\n",
       "      <td>145.0</td>\n",
       "    </tr>\n",
       "    <tr>\n",
       "      <td>Orzeszkowa</td>\n",
       "      <td>22087.0</td>\n",
       "      <td>19.479875</td>\n",
       "      <td>17.248458</td>\n",
       "      <td>1.0</td>\n",
       "      <td>7.0</td>\n",
       "      <td>15.0</td>\n",
       "      <td>27.0</td>\n",
       "      <td>219.0</td>\n",
       "    </tr>\n",
       "    <tr>\n",
       "      <td>Prus</td>\n",
       "      <td>30941.0</td>\n",
       "      <td>12.167609</td>\n",
       "      <td>10.034522</td>\n",
       "      <td>1.0</td>\n",
       "      <td>5.0</td>\n",
       "      <td>10.0</td>\n",
       "      <td>17.0</td>\n",
       "      <td>133.0</td>\n",
       "    </tr>\n",
       "    <tr>\n",
       "      <td>Reymont</td>\n",
       "      <td>24079.0</td>\n",
       "      <td>16.378421</td>\n",
       "      <td>18.883692</td>\n",
       "      <td>1.0</td>\n",
       "      <td>5.0</td>\n",
       "      <td>10.0</td>\n",
       "      <td>21.0</td>\n",
       "      <td>316.0</td>\n",
       "    </tr>\n",
       "    <tr>\n",
       "      <td>Sienkiewicz</td>\n",
       "      <td>40258.0</td>\n",
       "      <td>13.747454</td>\n",
       "      <td>12.032905</td>\n",
       "      <td>1.0</td>\n",
       "      <td>5.0</td>\n",
       "      <td>10.0</td>\n",
       "      <td>19.0</td>\n",
       "      <td>146.0</td>\n",
       "    </tr>\n",
       "  </tbody>\n",
       "</table>\n",
       "</div>"
      ],
      "text/plain": [
       "               count       mean        std  min  25%   50%   75%    max\n",
       "author                                                                 \n",
       "Mickiewicz    5079.0  16.148258  13.944973  1.0  6.0  13.0  23.0  145.0\n",
       "Orzeszkowa   22087.0  19.479875  17.248458  1.0  7.0  15.0  27.0  219.0\n",
       "Prus         30941.0  12.167609  10.034522  1.0  5.0  10.0  17.0  133.0\n",
       "Reymont      24079.0  16.378421  18.883692  1.0  5.0  10.0  21.0  316.0\n",
       "Sienkiewicz  40258.0  13.747454  12.032905  1.0  5.0  10.0  19.0  146.0"
      ]
     },
     "execution_count": 9,
     "metadata": {},
     "output_type": "execute_result"
    }
   ],
   "source": [
    "#usuniecie lini z zerowa iloscia wyrazow\n",
    "book_lines_df=book_lines_df[~(book_lines_df['words']==0)]\n",
    "book_lines_df.groupby('author')['words'].describe()"
   ]
  },
  {
   "cell_type": "code",
   "execution_count": 10,
   "metadata": {},
   "outputs": [],
   "source": [
    "#podzielenie zbioru na testowe i treningowe\n",
    "train_df, test_df = train_test_split(book_lines_df,test_size=0.1,stratify=book_lines_df['author'],)"
   ]
  },
  {
   "cell_type": "code",
   "execution_count": 12,
   "metadata": {},
   "outputs": [
    {
     "name": "stdout",
     "output_type": "stream",
     "text": [
      "Extracting vector for sentence: 'a boryna zapatrzony przed się w cały ten urokliwy świat nocy zwiesnowej szedł zagonami cicho niby widmo błogosławiące każdej grudce ziemi każdemu źdźbłu i siał siał wciąż siał niestrudzenie'\n"
     ]
    },
    {
     "data": {
      "text/plain": [
       "<1x131650 sparse matrix of type '<class 'numpy.int64'>'\n",
       "\twith 24 stored elements in Compressed Sparse Row format>"
      ]
     },
     "execution_count": 12,
     "metadata": {},
     "output_type": "execute_result"
    }
   ],
   "source": [
    "#kodowanie zdan na liczby\n",
    "vectorizer = CountVectorizer()\n",
    "vectorizer.fit(train_df['txt'])\n",
    "sample_sentence = train_df.iloc[10]['txt']\n",
    "print (\"Extracting vector for sentence: '{}'\".format(sample_sentence))\n",
    "vectorizer.transform([sample_sentence])"
   ]
  },
  {
   "cell_type": "code",
   "execution_count": 13,
   "metadata": {},
   "outputs": [
    {
     "name": "stderr",
     "output_type": "stream",
     "text": [
      "C:\\Users\\Patryk\\Anaconda3\\lib\\site-packages\\sklearn\\linear_model\\logistic.py:432: FutureWarning: Default solver will be changed to 'lbfgs' in 0.22. Specify a solver to silence this warning.\n",
      "  FutureWarning)\n",
      "C:\\Users\\Patryk\\Anaconda3\\lib\\site-packages\\sklearn\\linear_model\\logistic.py:469: FutureWarning: Default multi_class will be changed to 'auto' in 0.22. Specify the multi_class option to silence this warning.\n",
      "  \"this warning.\", FutureWarning)\n",
      "C:\\Users\\Patryk\\Anaconda3\\lib\\site-packages\\sklearn\\svm\\base.py:929: ConvergenceWarning: Liblinear failed to converge, increase the number of iterations.\n",
      "  \"the number of iterations.\", ConvergenceWarning)\n"
     ]
    },
    {
     "data": {
      "text/plain": [
       "LogisticRegression(C=1.0, class_weight='balanced', dual=True,\n",
       "                   fit_intercept=True, intercept_scaling=1, l1_ratio=None,\n",
       "                   max_iter=100, multi_class='warn', n_jobs=None, penalty='l2',\n",
       "                   random_state=None, solver='warn', tol=0.0001, verbose=0,\n",
       "                   warm_start=False)"
      ]
     },
     "execution_count": 13,
     "metadata": {},
     "output_type": "execute_result"
    }
   ],
   "source": [
    "#model regresji logistycznej\n",
    "X_train=vectorizer.transform(train_df['txt'])\n",
    "X_test=vectorizer.transform(test_df['txt'])\n",
    "model = LogisticRegression(class_weight='balanced', dual=True)\n",
    "model.fit(X_train, train_df['author'])"
   ]
  },
  {
   "cell_type": "code",
   "execution_count": 14,
   "metadata": {},
   "outputs": [
    {
     "data": {
      "text/plain": [
       "0.7603103307472437"
      ]
     },
     "execution_count": 14,
     "metadata": {},
     "output_type": "execute_result"
    }
   ],
   "source": [
    "#sprawdzenie jakosci modelu na danych testowych\n",
    "model.score(X_test, test_df['author'])"
   ]
  },
  {
   "cell_type": "code",
   "execution_count": 15,
   "metadata": {},
   "outputs": [
    {
     "name": "stdout",
     "output_type": "stream",
     "text": [
      "              precision    recall  f1-score   support\n",
      "\n",
      "  Mickiewicz     0.6100    0.5512    0.5791       508\n",
      "  Orzeszkowa     0.7521    0.7239    0.7377      2209\n",
      "        Prus     0.7410    0.7285    0.7347      3094\n",
      "     Reymont     0.7425    0.7591    0.7507      2408\n",
      " Sienkiewicz     0.8058    0.8318    0.8186      4026\n",
      "\n",
      "    accuracy                         0.7603     12245\n",
      "   macro avg     0.7303    0.7189    0.7242     12245\n",
      "weighted avg     0.7592    0.7603    0.7595     12245\n",
      "\n"
     ]
    }
   ],
   "source": [
    "#sprawdzenie, jak model radzi sobie z rozpoznawaniem autora na podstawie dostarczonych probek\n",
    "target = test_df['author']\n",
    "predicted = model.predict(X_test)\n",
    "print (metrics.classification_report(target, predicted, digits=4))"
   ]
  },
  {
   "cell_type": "code",
   "execution_count": null,
   "metadata": {},
   "outputs": [],
   "source": []
  }
 ],
 "metadata": {
  "kernelspec": {
   "display_name": "Python 3",
   "language": "python",
   "name": "python3"
  },
  "language_info": {
   "codemirror_mode": {
    "name": "ipython",
    "version": 3
   },
   "file_extension": ".py",
   "mimetype": "text/x-python",
   "name": "python",
   "nbconvert_exporter": "python",
   "pygments_lexer": "ipython3",
   "version": "3.7.4"
  }
 },
 "nbformat": 4,
 "nbformat_minor": 4
}
