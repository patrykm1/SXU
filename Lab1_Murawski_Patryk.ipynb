{
 "cells": [
  {
   "cell_type": "code",
   "execution_count": 1,
   "metadata": {},
   "outputs": [],
   "source": [
    "import numpy as np"
   ]
  },
  {
   "cell_type": "code",
   "execution_count": 4,
   "metadata": {},
   "outputs": [
    {
     "data": {
      "text/plain": [
       "array([0., 0., 0., 0., 0., 0., 0., 0., 0., 0.])"
      ]
     },
     "execution_count": 4,
     "metadata": {},
     "output_type": "execute_result"
    }
   ],
   "source": [
    "#1\n",
    "#tablica zawierająca 10 zer\n",
    "np.zeros(10)"
   ]
  },
  {
   "cell_type": "code",
   "execution_count": 5,
   "metadata": {},
   "outputs": [
    {
     "data": {
      "text/plain": [
       "array([5, 5, 5, 5, 5, 5, 5, 5, 5, 5])"
      ]
     },
     "execution_count": 5,
     "metadata": {},
     "output_type": "execute_result"
    }
   ],
   "source": [
    "#2\n",
    "#tablica zawierająca 10 piątek\n",
    "np.full(10,5)"
   ]
  },
  {
   "cell_type": "code",
   "execution_count": 8,
   "metadata": {},
   "outputs": [
    {
     "data": {
      "text/plain": [
       "array([10, 11, 12, 13, 14, 15, 16, 17, 18, 19, 20, 21, 22, 23, 24, 25, 26,\n",
       "       27, 28, 29, 30, 31, 32, 33, 34, 35, 36, 37, 38, 39, 40, 41, 42, 43,\n",
       "       44, 45, 46, 47, 48, 49, 50])"
      ]
     },
     "execution_count": 8,
     "metadata": {},
     "output_type": "execute_result"
    }
   ],
   "source": [
    "#3\n",
    "#tablica zawierająca liczby od 10 do 50\n",
    "np.arange(10,51,1)"
   ]
  },
  {
   "cell_type": "code",
   "execution_count": 12,
   "metadata": {},
   "outputs": [
    {
     "data": {
      "text/plain": [
       "array([[0, 1, 2],\n",
       "       [3, 4, 5],\n",
       "       [6, 7, 8]])"
      ]
     },
     "execution_count": 12,
     "metadata": {},
     "output_type": "execute_result"
    }
   ],
   "source": [
    "#4\n",
    "#macierz o wymiarach 3x3 zawierającą liczby od 0 do 8\n",
    "np.arange(0,9,1).reshape(3,3)"
   ]
  },
  {
   "cell_type": "code",
   "execution_count": 13,
   "metadata": {},
   "outputs": [
    {
     "data": {
      "text/plain": [
       "array([[1., 0., 0.],\n",
       "       [0., 1., 0.],\n",
       "       [0., 0., 1.]])"
      ]
     },
     "execution_count": 13,
     "metadata": {},
     "output_type": "execute_result"
    }
   ],
   "source": [
    "#5\n",
    "#macierz jednostkowa o wymiarach 3x3\n",
    "np.eye(3)"
   ]
  },
  {
   "cell_type": "code",
   "execution_count": 25,
   "metadata": {},
   "outputs": [
    {
     "data": {
      "text/plain": [
       "array([[ 1.73695292,  2.03021572, -0.40192175,  1.289607  ,  0.39144417],\n",
       "       [ 0.18387729,  0.37193184, -0.41589107,  0.34435979,  0.18099714],\n",
       "       [-0.48468965, -1.59732712,  1.56519951, -1.62343165,  0.01644732],\n",
       "       [-0.40586116, -1.30961063,  0.79001197, -1.27739438, -0.54019986],\n",
       "       [-0.5783538 ,  1.76348954, -0.76463507,  0.73508798,  0.20248611]])"
      ]
     },
     "execution_count": 25,
     "metadata": {},
     "output_type": "execute_result"
    }
   ],
   "source": [
    "#6\n",
    "#macierz o wymiarach 5x5 zawierającą liczby z dystrybucji normalnej (Gaussa)\n",
    "np.random.normal(0,1,25).reshape(5,5)"
   ]
  },
  {
   "cell_type": "code",
   "execution_count": 30,
   "metadata": {},
   "outputs": [
    {
     "data": {
      "text/plain": [
       "array([[0.01, 0.02, 0.03, 0.04, 0.05, 0.06, 0.07, 0.08, 0.09, 0.1 ],\n",
       "       [0.11, 0.12, 0.13, 0.14, 0.15, 0.16, 0.17, 0.18, 0.19, 0.2 ],\n",
       "       [0.21, 0.22, 0.23, 0.24, 0.25, 0.26, 0.27, 0.28, 0.29, 0.3 ],\n",
       "       [0.31, 0.32, 0.33, 0.34, 0.35, 0.36, 0.37, 0.38, 0.39, 0.4 ],\n",
       "       [0.41, 0.42, 0.43, 0.44, 0.45, 0.46, 0.47, 0.48, 0.49, 0.5 ],\n",
       "       [0.51, 0.52, 0.53, 0.54, 0.55, 0.56, 0.57, 0.58, 0.59, 0.6 ],\n",
       "       [0.61, 0.62, 0.63, 0.64, 0.65, 0.66, 0.67, 0.68, 0.69, 0.7 ],\n",
       "       [0.71, 0.72, 0.73, 0.74, 0.75, 0.76, 0.77, 0.78, 0.79, 0.8 ],\n",
       "       [0.81, 0.82, 0.83, 0.84, 0.85, 0.86, 0.87, 0.88, 0.89, 0.9 ],\n",
       "       [0.91, 0.92, 0.93, 0.94, 0.95, 0.96, 0.97, 0.98, 0.99, 1.  ]])"
      ]
     },
     "execution_count": 30,
     "metadata": {},
     "output_type": "execute_result"
    }
   ],
   "source": [
    "#7\n",
    "#macierz o wymiarach 10x10 zawierającą liczby od 0,01 do 1 z krokiem 0,01\n",
    "np.arange(0.01, 1.01, 0.01).reshape(10,10)"
   ]
  },
  {
   "cell_type": "code",
   "execution_count": 34,
   "metadata": {},
   "outputs": [
    {
     "data": {
      "text/plain": [
       "array([0.        , 0.05263158, 0.10526316, 0.15789474, 0.21052632,\n",
       "       0.26315789, 0.31578947, 0.36842105, 0.42105263, 0.47368421,\n",
       "       0.52631579, 0.57894737, 0.63157895, 0.68421053, 0.73684211,\n",
       "       0.78947368, 0.84210526, 0.89473684, 0.94736842, 1.        ])"
      ]
     },
     "execution_count": 34,
     "metadata": {},
     "output_type": "execute_result"
    }
   ],
   "source": [
    "#8\n",
    "#tablica zawierająca 20 liniowo rozłożonych liczb między 0 a 1 (włącznie z 0 i 1)\n",
    "np.linspace(0,1,20)"
   ]
  },
  {
   "cell_type": "code",
   "execution_count": 86,
   "metadata": {},
   "outputs": [
    {
     "data": {
      "text/plain": [
       "array([[ 6.81830888, 21.42269957, 10.85834213,  2.0110324 ,  5.7107399 ],\n",
       "       [24.43258007, 13.80092105,  8.63307358, 18.61684554,  7.23770702],\n",
       "       [21.02822286, 15.48543084,  8.62268352, 11.59659742,  9.60352398],\n",
       "       [20.18653337,  3.79265931,  5.1130419 , 19.05495468, 17.76555406],\n",
       "       [22.40363892, 21.41928593, 14.93680279, 14.32698019, 14.47496671]])"
      ]
     },
     "execution_count": 86,
     "metadata": {},
     "output_type": "execute_result"
    }
   ],
   "source": [
    "#9\n",
    "#tablica zawierająca losowe liczby z przedziału (1, 25), następnie zamień ją na macierz o wymiarach 5 x 5 z tymi samymi liczbami\n",
    "task9=np.random.random((5,5))*25\n",
    "#task9.reshape(5,5)\n",
    "task9"
   ]
  },
  {
   "cell_type": "code",
   "execution_count": 74,
   "metadata": {},
   "outputs": [
    {
     "data": {
      "text/plain": [
       "310.96053773117967"
      ]
     },
     "execution_count": 74,
     "metadata": {},
     "output_type": "execute_result"
    }
   ],
   "source": [
    "#9 A\n",
    "#suma wszystkich liczb w ww. macierzy,\n",
    "task9.sum()"
   ]
  },
  {
   "cell_type": "code",
   "execution_count": 73,
   "metadata": {},
   "outputs": [
    {
     "data": {
      "text/plain": [
       "12.438421509247187"
      ]
     },
     "execution_count": 73,
     "metadata": {},
     "output_type": "execute_result"
    }
   ],
   "source": [
    "#9 B\n",
    "#średnia wszystkich liczb w ww. macierzy,\n",
    "task9.mean()"
   ]
  },
  {
   "cell_type": "code",
   "execution_count": 75,
   "metadata": {},
   "outputs": [
    {
     "data": {
      "text/plain": [
       "7.048530010574018"
      ]
     },
     "execution_count": 75,
     "metadata": {},
     "output_type": "execute_result"
    }
   ],
   "source": [
    "#9 C\n",
    "#standardowa dewiacja dla liczb w ww. macierzy\n",
    "task9.std()"
   ]
  },
  {
   "cell_type": "code",
   "execution_count": 88,
   "metadata": {},
   "outputs": [
    {
     "data": {
      "text/plain": [
       "array([46.82112287, 72.72112725, 66.33645862, 65.91274332, 87.56167454])"
      ]
     },
     "execution_count": 88,
     "metadata": {},
     "output_type": "execute_result"
    }
   ],
   "source": [
    "#9 D\n",
    "#suma każdej kolumny ww. macierzy\n",
    "task9.sum(axis=1)"
   ]
  },
  {
   "cell_type": "code",
   "execution_count": 90,
   "metadata": {},
   "outputs": [
    {
     "data": {
      "text/plain": [
       "array([[ 3.69070157, 33.19908349, 27.33033523, 21.41072247, 23.44122579],\n",
       "       [99.64100023, 26.50492087, 49.75548005, 50.0904238 , 53.48602529],\n",
       "       [45.78343491,  9.41022397, 86.39993328, 89.67381877, 98.4283406 ],\n",
       "       [39.55592937, 35.4008253 , 57.15052269, 65.43113908, 49.89012301],\n",
       "       [59.19612112,  5.83213972, 26.14168479, 80.93748531, 34.65240578]])"
      ]
     },
     "execution_count": 90,
     "metadata": {},
     "output_type": "execute_result"
    }
   ],
   "source": [
    "#10\n",
    "#macierz o wymiarach 5x5 zawierającą losowe liczby z przedziału (0, 100)\n",
    "task10=np.random.random((5,5))*100\n",
    "task10"
   ]
  },
  {
   "cell_type": "code",
   "execution_count": 92,
   "metadata": {},
   "outputs": [
    {
     "data": {
      "text/plain": [
       "45.78343491245261"
      ]
     },
     "execution_count": 92,
     "metadata": {},
     "output_type": "execute_result"
    }
   ],
   "source": [
    "#10 A\n",
    "#mediana tych liczb\n",
    "np.median(task10)"
   ]
  },
  {
   "cell_type": "code",
   "execution_count": 93,
   "metadata": {},
   "outputs": [
    {
     "data": {
      "text/plain": [
       "3.6907015717440705"
      ]
     },
     "execution_count": 93,
     "metadata": {},
     "output_type": "execute_result"
    }
   ],
   "source": [
    "#10 B\n",
    "#najmniejsza liczba tej macierzy\n",
    "task10.min()"
   ]
  },
  {
   "cell_type": "code",
   "execution_count": 94,
   "metadata": {},
   "outputs": [
    {
     "data": {
      "text/plain": [
       "99.6410002276924"
      ]
     },
     "execution_count": 94,
     "metadata": {},
     "output_type": "execute_result"
    }
   ],
   "source": [
    "#10 C\n",
    "#największa liczba tej macierzy\n",
    "task10.max()"
   ]
  },
  {
   "cell_type": "code",
   "execution_count": 99,
   "metadata": {},
   "outputs": [
    {
     "data": {
      "text/plain": [
       "array([[68.75011364, 55.5624032 ,  4.81445504, 27.02849325, 20.20716356,\n",
       "        76.34802185],\n",
       "       [18.11096538, 76.29600519, 39.89516495, 56.77936541, 73.16144118,\n",
       "        86.89442378],\n",
       "       [86.79761432, 99.05352429, 71.70964147, 53.32218963, 88.99336089,\n",
       "        82.04300523]])"
      ]
     },
     "execution_count": 99,
     "metadata": {},
     "output_type": "execute_result"
    }
   ],
   "source": [
    "#11\n",
    "#macierz o wymiarach różnych od siebie i większych od 1, \n",
    "#zawierającą losowe liczby z przedziału (0, 100)\n",
    "task11=np.random.random((3,6))*100\n",
    "task11"
   ]
  },
  {
   "cell_type": "code",
   "execution_count": 100,
   "metadata": {},
   "outputs": [
    {
     "data": {
      "text/plain": [
       "array([[68.75011364, 18.11096538, 86.79761432],\n",
       "       [55.5624032 , 76.29600519, 99.05352429],\n",
       "       [ 4.81445504, 39.89516495, 71.70964147],\n",
       "       [27.02849325, 56.77936541, 53.32218963],\n",
       "       [20.20716356, 73.16144118, 88.99336089],\n",
       "       [76.34802185, 86.89442378, 82.04300523]])"
      ]
     },
     "execution_count": 100,
     "metadata": {},
     "output_type": "execute_result"
    }
   ],
   "source": [
    "#11 A\n",
    "# transpozycja tej macierzy\n",
    "task11.transpose() "
   ]
  },
  {
   "cell_type": "code",
   "execution_count": 110,
   "metadata": {},
   "outputs": [
    {
     "name": "stdout",
     "output_type": "stream",
     "text": [
      "[0 1 2 3] \n",
      " [[ 0  1  2  3]\n",
      " [ 4  5  6  7]\n",
      " [ 8  9 10 11]\n",
      " [12 13 14 15]\n",
      " [16 17 18 19]]\n"
     ]
    }
   ],
   "source": [
    "#12\n",
    "#dwie macierze o odpowiednich wymiarach większych od 2\n",
    "matr1=np.arange(4) \n",
    "matr2=np.arange(20).reshape(5,4)\n",
    "print(matr1,'\\n', matr2)"
   ]
  },
  {
   "cell_type": "code",
   "execution_count": 111,
   "metadata": {},
   "outputs": [
    {
     "name": "stdout",
     "output_type": "stream",
     "text": [
      "[[ 0  2  4  6]\n",
      " [ 4  6  8 10]\n",
      " [ 8 10 12 14]\n",
      " [12 14 16 18]\n",
      " [16 18 20 22]]\n"
     ]
    }
   ],
   "source": [
    "#Dodanie macierzy\n",
    "print(np.add(matr1, matr2))"
   ]
  },
  {
   "cell_type": "code",
   "execution_count": 112,
   "metadata": {},
   "outputs": [
    {
     "data": {
      "text/plain": [
       "array([[ 0,  1,  4,  9],\n",
       "       [ 0,  5, 12, 21],\n",
       "       [ 0,  9, 20, 33],\n",
       "       [ 0, 13, 28, 45],\n",
       "       [ 0, 17, 36, 57]])"
      ]
     },
     "execution_count": 112,
     "metadata": {},
     "output_type": "execute_result"
    }
   ],
   "source": [
    "#13 \n",
    "#Pomnożenie macierzy przy pomocy multiply\n",
    "np.multiply(matr1, matr2)"
   ]
  },
  {
   "cell_type": "code",
   "execution_count": 127,
   "metadata": {},
   "outputs": [
    {
     "name": "stdout",
     "output_type": "stream",
     "text": [
      "[[ 0  1  2  3]\n",
      " [ 4  5  6  7]\n",
      " [ 8  9 10 11]] \n",
      " \n",
      " [[ 0  1  2]\n",
      " [ 3  4  5]\n",
      " [ 6  7  8]\n",
      " [ 9 10 11]]\n"
     ]
    },
    {
     "data": {
      "text/plain": [
       "array([[ 42,  48,  54],\n",
       "       [114, 136, 158],\n",
       "       [186, 224, 262]])"
      ]
     },
     "execution_count": 127,
     "metadata": {},
     "output_type": "execute_result"
    }
   ],
   "source": [
    "#13 A\n",
    "#pomnożenie macierzy przy pomocy matmul\n",
    "matr3=np.arange(12).reshape(3,4)\n",
    "matr4=np.arange(12).reshape(4,3)\n",
    "print(matr3,'\\n \\n', matr4)\n",
    "np.matmul(matr3, matr4)"
   ]
  },
  {
   "cell_type": "code",
   "execution_count": null,
   "metadata": {},
   "outputs": [],
   "source": [
    "#14 Dodatkowe zadanie\n",
    "#krótko opisać i uruchomić wszystkie funkcje (od ‘add’ do ‘lcm’) z sekcji ‘Math operations’ "
   ]
  },
  {
   "cell_type": "code",
   "execution_count": 128,
   "metadata": {},
   "outputs": [
    {
     "data": {
      "text/plain": [
       "7"
      ]
     },
     "execution_count": 128,
     "metadata": {},
     "output_type": "execute_result"
    }
   ],
   "source": [
    "#14.1\n",
    "#add - dodaje argumenty\n",
    "np.add(2,5)"
   ]
  },
  {
   "cell_type": "code",
   "execution_count": 130,
   "metadata": {},
   "outputs": [
    {
     "data": {
      "text/plain": [
       "-8"
      ]
     },
     "execution_count": 130,
     "metadata": {},
     "output_type": "execute_result"
    }
   ],
   "source": [
    "#14.2\n",
    "#subtract - odejmuje argumenty\n",
    "np.subtract(4,12)"
   ]
  },
  {
   "cell_type": "code",
   "execution_count": 131,
   "metadata": {},
   "outputs": [
    {
     "data": {
      "text/plain": [
       "35"
      ]
     },
     "execution_count": 131,
     "metadata": {},
     "output_type": "execute_result"
    }
   ],
   "source": [
    "#14.3\n",
    "#multiply - mnoży argumenty\n",
    "np.multiply(7,5)"
   ]
  },
  {
   "cell_type": "code",
   "execution_count": 132,
   "metadata": {},
   "outputs": [
    {
     "data": {
      "text/plain": [
       "2.0"
      ]
     },
     "execution_count": 132,
     "metadata": {},
     "output_type": "execute_result"
    }
   ],
   "source": [
    "#14.4\n",
    "#divide - dzieli argumenty\n",
    "np.divide(8,4)"
   ]
  },
  {
   "cell_type": "code",
   "execution_count": 133,
   "metadata": {},
   "outputs": [
    {
     "data": {
      "text/plain": [
       "array([4.12692801, 4.04858735, 6.31326169])"
      ]
     },
     "execution_count": 133,
     "metadata": {},
     "output_type": "execute_result"
    }
   ],
   "source": [
    "#14.5.1\n",
    "#logaddexp - służy do obliczania logarytmu sumy potęgowań\n",
    "arr1=[2,4,6]\n",
    "arr2=[4,1,5]\n",
    "np.logaddexp(arr1, arr2)"
   ]
  },
  {
   "cell_type": "code",
   "execution_count": 136,
   "metadata": {},
   "outputs": [
    {
     "data": {
      "text/plain": [
       "-90.18648110757977"
      ]
     },
     "execution_count": 136,
     "metadata": {},
     "output_type": "execute_result"
    }
   ],
   "source": [
    "#14.5.2\n",
    "#drugi sposób wykorzystania\n",
    "a=np.log(4.2e-60)\n",
    "b=np.log(6.8e-40)\n",
    "np.logaddexp(a,b)"
   ]
  },
  {
   "cell_type": "code",
   "execution_count": 137,
   "metadata": {},
   "outputs": [
    {
     "data": {
      "text/plain": [
       "array([4.32192809, 4.169925  , 6.5849625 ])"
      ]
     },
     "execution_count": 137,
     "metadata": {},
     "output_type": "execute_result"
    }
   ],
   "source": [
    "#14.6\n",
    "#logaddexp2 - służy do obliczania logarytmu sumy potęgowań danych wejściowych, przydatna w uczeniu maszynowym\n",
    "np.logaddexp2(arr1,arr2)"
   ]
  },
  {
   "cell_type": "code",
   "execution_count": 141,
   "metadata": {},
   "outputs": [
    {
     "data": {
      "text/plain": [
       "array([0. , 0.2, 0.4, 0.6, 0.8, 1. ])"
      ]
     },
     "execution_count": 141,
     "metadata": {},
     "output_type": "execute_result"
    }
   ],
   "source": [
    "#14.7\n",
    "#true_divide - zwraca prawdziwy podział danych wejściowych, pod względem elementów.\n",
    "c=np.arange(6)\n",
    "np.true_divide(c,5)"
   ]
  },
  {
   "cell_type": "code",
   "execution_count": 144,
   "metadata": {},
   "outputs": [
    {
     "data": {
      "text/plain": [
       "4"
      ]
     },
     "execution_count": 144,
     "metadata": {},
     "output_type": "execute_result"
    }
   ],
   "source": [
    "#14.8\n",
    "#floor_divide- zwraca największą liczbę całkowitą mnniejszą bądź równą wynikowi dzielenia. (zaokrąglenie \"do dołu\" po dzieleniu)\n",
    "np.floor_divide(13,3)"
   ]
  },
  {
   "cell_type": "code",
   "execution_count": 145,
   "metadata": {},
   "outputs": [
    {
     "data": {
      "text/plain": [
       "array([-13.,  57.])"
      ]
     },
     "execution_count": 145,
     "metadata": {},
     "output_type": "execute_result"
    }
   ],
   "source": [
    "#14.9\n",
    "#negative - neguje podane liczby\n",
    "np.negative([13.,-57.])"
   ]
  },
  {
   "cell_type": "code",
   "execution_count": 148,
   "metadata": {},
   "outputs": [
    {
     "data": {
      "text/plain": [
       "array([  13,  -57,   -9, -111])"
      ]
     },
     "execution_count": 148,
     "metadata": {},
     "output_type": "execute_result"
    }
   ],
   "source": [
    "#14.10\n",
    "#positive - odpowiednik x.copy(), zdefiniowany tylko dla typów obsługujących arytmetykę\n",
    "d=[13, -57, -9, -111]\n",
    "np.positive(d)"
   ]
  },
  {
   "cell_type": "code",
   "execution_count": 153,
   "metadata": {},
   "outputs": [
    {
     "name": "stdout",
     "output_type": "stream",
     "text": [
      "[0 1 2 3 4]\n"
     ]
    },
    {
     "data": {
      "text/plain": [
       "array([ 0,  1,  8, 27, 64], dtype=int32)"
      ]
     },
     "execution_count": 153,
     "metadata": {},
     "output_type": "execute_result"
    }
   ],
   "source": [
    "#14.11\n",
    "#power - podnosi tablicę do potęgi podanej w wyrażeniu\n",
    "e=np.arange(5)\n",
    "print(e)\n",
    "np.power(e,3)"
   ]
  },
  {
   "cell_type": "code",
   "execution_count": 155,
   "metadata": {},
   "outputs": [
    {
     "data": {
      "text/plain": [
       "array([1, 2], dtype=int32)"
      ]
     },
     "execution_count": 155,
     "metadata": {},
     "output_type": "execute_result"
    }
   ],
   "source": [
    "#14.12\n",
    "#remainder - zwraca resztę z dzielenia elementów tablic\n",
    "np.remainder([3, 11], [2, 3])"
   ]
  },
  {
   "cell_type": "code",
   "execution_count": 158,
   "metadata": {},
   "outputs": [
    {
     "data": {
      "text/plain": [
       "array([1, 2], dtype=int32)"
      ]
     },
     "execution_count": 158,
     "metadata": {},
     "output_type": "execute_result"
    }
   ],
   "source": [
    "#14.13\n",
    "#mod - tak samo jak funkcja remainder zwraca resztę z dzielenia elementów tablic\n",
    "np.mod([3, 11], [2, 3])"
   ]
  },
  {
   "cell_type": "code",
   "execution_count": 160,
   "metadata": {},
   "outputs": [
    {
     "data": {
      "text/plain": [
       "array([ 0, -2, -1,  1,  2,  0,  1], dtype=int32)"
      ]
     },
     "execution_count": 160,
     "metadata": {},
     "output_type": "execute_result"
    }
   ],
   "source": [
    "#14.14\n",
    "#fmod - działa bardzo podobnie jak funkcje wyżej, uwzględnia też znak minus (-)\n",
    "np.fmod([-3, -2, -1, 1, 2, 3, 4], 3)"
   ]
  },
  {
   "cell_type": "code",
   "execution_count": 164,
   "metadata": {},
   "outputs": [
    {
     "data": {
      "text/plain": [
       "(array([0, 0, 0, 1, 1], dtype=int32), array([0, 1, 2, 0, 1], dtype=int32))"
      ]
     },
     "execution_count": 164,
     "metadata": {},
     "output_type": "execute_result"
    }
   ],
   "source": [
    "#14.15\n",
    "#divmod - zwraca jednocześnie resztę z dzielenia oraz iloraz elementarny\n",
    "np.divmod(np.arange(5), 3)"
   ]
  },
  {
   "cell_type": "code",
   "execution_count": 166,
   "metadata": {},
   "outputs": [
    {
     "data": {
      "text/plain": [
       "array([ 7,  1, 13, 88])"
      ]
     },
     "execution_count": 166,
     "metadata": {},
     "output_type": "execute_result"
    }
   ],
   "source": [
    "#14.16\n",
    "#absolute - oblicza wartość bezwzgledną tablicy\n",
    "f = [-7, 1, -13, -88]\n",
    "np.absolute(f)"
   ]
  },
  {
   "cell_type": "code",
   "execution_count": 168,
   "metadata": {},
   "outputs": [
    {
     "data": {
      "text/plain": [
       "7.0"
      ]
     },
     "execution_count": 168,
     "metadata": {},
     "output_type": "execute_result"
    }
   ],
   "source": [
    "#14.17\n",
    "#fabs - oblicza wartość bezwzględną podanej liczby\n",
    "np.fabs(-7)"
   ]
  },
  {
   "cell_type": "code",
   "execution_count": 170,
   "metadata": {},
   "outputs": [
    {
     "data": {
      "text/plain": [
       "array([-2., -2., -0.,  1.,  2.,  2.,  3.])"
      ]
     },
     "execution_count": 170,
     "metadata": {},
     "output_type": "execute_result"
    }
   ],
   "source": [
    "#14.18\n",
    "#rint - zaokrągla elementy tablicy do najbliższej liczby całkowitej\n",
    "g=np.array([-1.9, -1.5, -0.2, 0.7, 1.5, 1.7, 2.6])\n",
    "np.rint(g)"
   ]
  },
  {
   "cell_type": "code",
   "execution_count": 173,
   "metadata": {},
   "outputs": [
    {
     "data": {
      "text/plain": [
       "array([-1.,  1.,  1., -1.])"
      ]
     },
     "execution_count": 173,
     "metadata": {},
     "output_type": "execute_result"
    }
   ],
   "source": [
    "#14.19\n",
    "#sign - zwraca oznaczenie podanych liczb (dodatnia czy ujemna)\n",
    "np.sign([-5., 4.5, 17, -81])"
   ]
  },
  {
   "cell_type": "code",
   "execution_count": 188,
   "metadata": {},
   "outputs": [
    {
     "data": {
      "text/plain": [
       "array([1., 0., 1.])"
      ]
     },
     "execution_count": 188,
     "metadata": {},
     "output_type": "execute_result"
    }
   ],
   "source": [
    "#14.20\n",
    "#heaviside - oblicza wyrażenie, którego funkcja jest poniżej:\n",
    "#                                                0   if x1 < 0\n",
    "#                          heaviside(x1, x2) =  x2   if x1 == 0\n",
    "#                                                1   if x1 > 0\n",
    "np.heaviside([1.5, -7, 2.0], 1)"
   ]
  },
  {
   "cell_type": "code",
   "execution_count": 191,
   "metadata": {},
   "outputs": [
    {
     "data": {
      "text/plain": [
       "array([[1.-1.j, 0.-0.j, 0.-0.j],\n",
       "       [0.-0.j, 1.-1.j, 0.-0.j],\n",
       "       [0.-0.j, 0.-0.j, 1.-1.j]])"
      ]
     },
     "execution_count": 191,
     "metadata": {},
     "output_type": "execute_result"
    }
   ],
   "source": [
    "#14.21\n",
    "#conjugate - zwraca koniugat złożony. Złożony koniugat liczby zespolonej uzyskuje się poprzez zmianę znaku jego części urojonej.\n",
    "h = np.eye(3) + 1j * np.eye(3)\n",
    "np.conjugate(h)"
   ]
  },
  {
   "cell_type": "code",
   "execution_count": null,
   "metadata": {},
   "outputs": [],
   "source": [
    "#14.22\n",
    "#conj - jest tym samym co funkcja conjugate powyżej"
   ]
  },
  {
   "cell_type": "code",
   "execution_count": 200,
   "metadata": {},
   "outputs": [
    {
     "data": {
      "text/plain": [
       "array([1.00000000e+00, 2.71828183e+00, 7.38905610e+00, 2.00855369e+01,\n",
       "       5.45981500e+01, 1.48413159e+02, 4.03428793e+02, 1.09663316e+03,\n",
       "       2.98095799e+03, 8.10308393e+03])"
      ]
     },
     "execution_count": 200,
     "metadata": {},
     "output_type": "execute_result"
    }
   ],
   "source": [
    "#14.23\n",
    "#exp - oblicza e^x dla każdej wartości x w tablicy wejściowej.\n",
    "np.exp(np.arange(10))"
   ]
  },
  {
   "cell_type": "code",
   "execution_count": 205,
   "metadata": {},
   "outputs": [
    {
     "data": {
      "text/plain": [
       "array([ 8., 32.])"
      ]
     },
     "execution_count": 205,
     "metadata": {},
     "output_type": "execute_result"
    }
   ],
   "source": [
    "#14.24\n",
    "#exp2 - podnosi cyfrę 2 do potęg wskazanych w tablicy\n",
    "np.exp2([3, 5])"
   ]
  },
  {
   "cell_type": "code",
   "execution_count": 213,
   "metadata": {},
   "outputs": [
    {
     "data": {
      "text/plain": [
       "array([0.        , 3.49650756, 1.        , 2.48490665])"
      ]
     },
     "execution_count": 213,
     "metadata": {},
     "output_type": "execute_result"
    }
   ],
   "source": [
    "#14.25\n",
    "#log - logarytm naturalny\n",
    "np.log([1, 33, np.e, 12])"
   ]
  },
  {
   "cell_type": "code",
   "execution_count": 215,
   "metadata": {},
   "outputs": [
    {
     "data": {
      "text/plain": [
       "array([5.04439412, 0.        , 1.        , 1.44269504])"
      ]
     },
     "execution_count": 215,
     "metadata": {},
     "output_type": "execute_result"
    }
   ],
   "source": [
    "#14.26\n",
    "#log2 - logarytm o podstawie 2\n",
    "i = np.array([33, 1, 2, np.e])\n",
    "np.log2(i)"
   ]
  },
  {
   "cell_type": "code",
   "execution_count": 217,
   "metadata": {},
   "outputs": [
    {
     "data": {
      "text/plain": [
       "array([-15.        ,   0.47712125,   0.43429448])"
      ]
     },
     "execution_count": 217,
     "metadata": {},
     "output_type": "execute_result"
    }
   ],
   "source": [
    "#14.27\n",
    "#log10 - logarytm dziesiętny\n",
    "np.log10([1e-15, 3, np.e])"
   ]
  },
  {
   "cell_type": "code",
   "execution_count": 219,
   "metadata": {},
   "outputs": [
    {
     "data": {
      "text/plain": [
       "1.000000000005e-11"
      ]
     },
     "execution_count": 219,
     "metadata": {},
     "output_type": "execute_result"
    }
   ],
   "source": [
    "#14.28\n",
    "#expm1 - oblicza exp(x)-1 dla wszystkich elementów w tablicy.\n",
    "np.expm1(1e-11)"
   ]
  },
  {
   "cell_type": "code",
   "execution_count": 222,
   "metadata": {},
   "outputs": [
    {
     "data": {
      "text/plain": [
       "4e-59"
      ]
     },
     "execution_count": 222,
     "metadata": {},
     "output_type": "execute_result"
    }
   ],
   "source": [
    "#14.29\n",
    "#log1p - zwraca logarytm naturalny z 1 plus tablicę wejściową\n",
    "np.log1p(4e-59)"
   ]
  },
  {
   "cell_type": "code",
   "execution_count": 226,
   "metadata": {},
   "outputs": [
    {
     "data": {
      "text/plain": [
       "array([ 1.        ,  5.91607978,  9.        , 12.04159458])"
      ]
     },
     "execution_count": 226,
     "metadata": {},
     "output_type": "execute_result"
    }
   ],
   "source": [
    "#14.30\n",
    "#sqrt - zwraca pierwiastek danej liczby\n",
    "np.sqrt([1,35, 81, 145])"
   ]
  },
  {
   "cell_type": "code",
   "execution_count": 233,
   "metadata": {},
   "outputs": [
    {
     "data": {
      "text/plain": [
       "array([961, 144], dtype=int32)"
      ]
     },
     "execution_count": 233,
     "metadata": {},
     "output_type": "execute_result"
    }
   ],
   "source": [
    "#14.31\n",
    "#square - zwraca elementy tablicy podniesione do potęgi 2\n",
    "np.square([31, 12])"
   ]
  },
  {
   "cell_type": "code",
   "execution_count": 235,
   "metadata": {},
   "outputs": [
    {
     "data": {
      "text/plain": [
       "array([1.        , 2.        , 4.        , 8.25726327])"
      ]
     },
     "execution_count": 235,
     "metadata": {},
     "output_type": "execute_result"
    }
   ],
   "source": [
    "#14.32\n",
    "#cbrt - zwraca pierwiastek 3 stopnia elementów tablicy\n",
    "np.cbrt([1,8,64, 563])"
   ]
  },
  {
   "cell_type": "code",
   "execution_count": 238,
   "metadata": {},
   "outputs": [
    {
     "data": {
      "text/plain": [
       "array([0.5       , 0.14285714, 0.3003003 ])"
      ]
     },
     "execution_count": 238,
     "metadata": {},
     "output_type": "execute_result"
    }
   ],
   "source": [
    "#14.33\n",
    "#reciprocal - zwraca odwrotność argumentów (wyrażenie 1/x )\n",
    "np.reciprocal([2, 7., 3.33])"
   ]
  },
  {
   "cell_type": "code",
   "execution_count": 248,
   "metadata": {},
   "outputs": [
    {
     "data": {
      "text/plain": [
       "5"
      ]
     },
     "execution_count": 248,
     "metadata": {},
     "output_type": "execute_result"
    }
   ],
   "source": [
    "#14.34\n",
    "#gcd - zwraca największy wspólny dzielnik podanych liczb\n",
    "np.gcd(125, 60)"
   ]
  },
  {
   "cell_type": "code",
   "execution_count": 253,
   "metadata": {},
   "outputs": [
    {
     "data": {
      "text/plain": [
       "60"
      ]
     },
     "execution_count": 253,
     "metadata": {},
     "output_type": "execute_result"
    }
   ],
   "source": [
    "#14.35\n",
    "#lcm - zwraca najniższą wspólną wielokrotność podanych liczb\n",
    "np.lcm(12, 20)"
   ]
  }
 ],
 "metadata": {
  "kernelspec": {
   "display_name": "Python 3",
   "language": "python",
   "name": "python3"
  },
  "language_info": {
   "codemirror_mode": {
    "name": "ipython",
    "version": 3
   },
   "file_extension": ".py",
   "mimetype": "text/x-python",
   "name": "python",
   "nbconvert_exporter": "python",
   "pygments_lexer": "ipython3",
   "version": "3.7.4"
  }
 },
 "nbformat": 4,
 "nbformat_minor": 2
}
