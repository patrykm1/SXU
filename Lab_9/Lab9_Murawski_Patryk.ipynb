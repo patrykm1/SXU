{
 "cells": [
  {
   "cell_type": "code",
   "execution_count": 1,
   "metadata": {},
   "outputs": [],
   "source": [
    "import re\n",
    "import glob\n",
    "import random\n",
    "import math\n",
    "from collections import defaultdict, Counter"
   ]
  },
  {
   "cell_type": "code",
   "execution_count": 2,
   "metadata": {},
   "outputs": [],
   "source": [
    "def tokenize(message):\n",
    "    message = message.lower() #Zamień na małe litery\n",
    "    all_words = re.findall(\"[a-z0-9]+\", message) #Wyciągnij slowa.\n",
    "    return set(all_words) #Usuń duplikaty."
   ]
  },
  {
   "cell_type": "code",
   "execution_count": 3,
   "metadata": {},
   "outputs": [],
   "source": [
    "def count_words(training_set):\n",
    "    \"\"\"zbior treningowy to para (message,is_spam)\"\"\"\n",
    "    counts = defaultdict(lambda: [0,0])\n",
    "    for message, is_spam in training_set:\n",
    "        for word in tokenize(message):\n",
    "            counts[word][0 if is_spam else 1] += 1\n",
    "    return counts\n",
    "\n",
    "def word_probabilities(counts,total_spams,total_non_spams,k=0.5):\n",
    "    \"\"\"zwrocenie 3-elementowej listy zawierajace slowo, prawdopodobienstwo wystapienia w spamie i prawdopodobienstwa nie bycia spamem\"\"\"\n",
    " \n",
    "    return [(w,(spam +k)/(total_spams + 2 *k),\n",
    "            (non_spam + k)/(total_non_spams +2 * k))\n",
    "            for w,(spam,non_spam) in counts.items()]"
   ]
  },
  {
   "cell_type": "code",
   "execution_count": 4,
   "metadata": {},
   "outputs": [],
   "source": [
    "def spam_probability(word_probs, message):\n",
    "    \"\"\"prawdopodbienstwo wystapienia slow w celu przypisania prawdopodobienstw do wiadomosci\"\"\"\n",
    "    message_words = tokenize(message)\n",
    "    log_prob_if_spam = log_prob_if_not_spam = 0.0\n",
    "\n",
    "    for word, prob_if_spam, prob_if_not_spam in word_probs:\n",
    "        if word in message_words:\n",
    "            log_prob_if_spam += math.log(prob_if_spam)\n",
    "            log_prob_if_not_spam += math.log(prob_if_not_spam)\n",
    "        else:\n",
    "            log_prob_if_spam += math.log(1.0 - prob_if_spam)\n",
    "            log_prob_if_not_spam += math.log(1.0 - prob_if_not_spam)\n",
    "\n",
    "    prob_if_spam = math.exp(log_prob_if_spam)\n",
    "    prob_if_not_spam = math.exp(log_prob_if_not_spam)\n",
    "    return prob_if_spam / (prob_if_spam + prob_if_not_spam)"
   ]
  },
  {
   "cell_type": "code",
   "execution_count": 5,
   "metadata": {},
   "outputs": [],
   "source": [
    "class NaiveBayesClassifier:\n",
    "    def __init__(self,k=0.5):\n",
    "        self.k = k\n",
    "        self.word_probs = []\n",
    "        \n",
    "    def train(self,training_set):\n",
    "        num_spams = len([is_spam for message, is_spam in training_set if is_spam])\n",
    "        num_non_spams = len(training_set) - num_spams\n",
    "        \n",
    "        #przetworzenie zbioru danych\n",
    "        word_counts = count_words(training_set)\n",
    "        self.word_probs = word_probabilities(word_counts,num_spams,num_non_spams,self.k)\n",
    "        \n",
    "    def classify(self,message):\n",
    "        return spam_probability(self.word_probs,message)"
   ]
  },
  {
   "cell_type": "code",
   "execution_count": 6,
   "metadata": {},
   "outputs": [],
   "source": [
    "path = r\"./spam/*/*\"\n",
    "    \n",
    "def get_subject_data(path):\n",
    "\n",
    "    data = []\n",
    "    #Usuwa slowo \"Subject\" nie zmieniajac reszty\n",
    "    subject_regex = re.compile(r\"^Subject:\\s+\")\n",
    "\n",
    "    for fn in glob.glob(path):\n",
    "        is_spam = \"ham\" not in fn\n",
    "\n",
    "        with open(fn,'r',encoding='ISO-8859-1') as file:\n",
    "            for line in file:\n",
    "                if line.startswith(\"Subject:\"):\n",
    "                    subject = subject_regex.sub(\"\", line).strip()\n",
    "                    data.append((subject, is_spam))\n",
    "\n",
    "    return data"
   ]
  },
  {
   "cell_type": "code",
   "execution_count": 7,
   "metadata": {},
   "outputs": [],
   "source": [
    "#metoda z pliku machine_learning\n",
    "def split_data(data, prob):\n",
    "    \"\"\"split data into fractions [prob, 1 - prob]\"\"\"\n",
    "    results = [], []\n",
    "    for row in data:\n",
    "        results[0 if random.random() < prob else 1].append(row)\n",
    "    return results\n",
    "\n",
    "#dodatkowa metoda, ktora na podstawie twierdzenia bayesa oblicza prawdopodobienstwa spamu\n",
    "def p_spam_given_word(word_prob):\n",
    "    word, prob_if_spam, prob_if_not_spam = word_prob\n",
    "    return prob_if_spam / (prob_if_spam + prob_if_not_spam)"
   ]
  },
  {
   "cell_type": "code",
   "execution_count": 8,
   "metadata": {},
   "outputs": [],
   "source": [
    "data = get_subject_data(path)\n",
    "#podzielenie zbioru na treningowy i testowy oraz zbudowanie klasyfikatora\n",
    "random.seed(0)\n",
    "train_data,test_data = split_data(data,0.6)\n",
    "\n",
    "classifier = NaiveBayesClassifier()\n",
    "classifier.train(train_data)\n",
    "\n",
    "classified = [(subject, is_spam,classifier.classify(subject)) for subject,is_spam in test_data]\n",
    "counts = Counter((is_spam,spam_probability > 0.5) for _,is_spam,spam_probability in classified)\n",
    "\n",
    "classified.sort(key=lambda row: row[2])"
   ]
  },
  {
   "cell_type": "code",
   "execution_count": 15,
   "metadata": {},
   "outputs": [
    {
     "name": "stdout",
     "output_type": "stream",
     "text": [
      "najwieksze prawdopodbienstwo spamu wsrod wiadomosci niebedacych spamem\n",
      "spammiest_hams [(\"A-level student sues for £100,000 over 'grade fixing'\", False, 0.988370041686534), ('[ILUG-Social] Re: Important - reenactor insurance needed', False, 0.993668571669194), ('The MIME information you requested (last changed 3154 Feb 14)', False, 0.9967700663238405), ('=?iso-8859-1?Q?Matrox_Parhelia=99_now_available?=', False, 0.9972146394289586), ('\"I meditated in a cave for 12 years and now I\\'m here to tell you', False, 0.9987530113830644)] \n",
      "\n",
      "najwieksze prawdopodbienstwo spamu wsrod wiadomosci bedacych spamem\n",
      "hammiest_spams [('Re: girls', True, 0.0006930833060748901), ('Re: This Weekend', True, 0.0021053315905049923), ('Testing a system, please delete', True, 0.002602944652390981), ('Introducing Chase Platinum for Students with a 0% Introductory APR', True, 0.002685849319642986), ('.Message report from your contact page....//ytu855 rkq', True, 0.0031928142105761594)] \n",
      "\n"
     ]
    }
   ],
   "source": [
    "#najwieksze prawdopodbienstwo spamu wsrod wiadomosci niebedacych spamem\n",
    "spammiest_hams = list(filter(lambda row: not row[1], classified))[-5:]\n",
    "\n",
    "#najmniejsze prawdopodobienstwo spamu wsrod wiadomosci bedacych spamem\n",
    "hammiest_spams = list(filter(lambda row: row[1], classified))[:5]\n",
    "print('najwieksze prawdopodbienstwo spamu wsrod wiadomosci niebedacych spamem')\n",
    "print(\"spammiest_hams\", spammiest_hams,'\\n')\n",
    "print('najwieksze prawdopodbienstwo spamu wsrod wiadomosci bedacych spamem')\n",
    "print(\"hammiest_spams\", hammiest_spams,'\\n')\n",
    "\n",
    "words = sorted(classifier.word_probs, key=p_spam_given_word)"
   ]
  },
  {
   "cell_type": "code",
   "execution_count": 14,
   "metadata": {},
   "outputs": [
    {
     "name": "stdout",
     "output_type": "stream",
     "text": [
      "najwieksze prawdopodbienstwo spamu\n",
      "spammiest_words [('guaranteed', 0.02631578947368421, 0.00028818443804034583), ('zzzz', 0.02982456140350877, 0.00028818443804034583), ('systemworks', 0.03333333333333333, 0.00028818443804034583), ('money', 0.03333333333333333, 0.00028818443804034583), ('adv', 0.03333333333333333, 0.00028818443804034583)] \n",
      "\n",
      "najwieksze prawdopodbienstwo ze nie jest spamem\n",
      "hammiest_words [('satalk', 0.0017543859649122807, 0.05561959654178674), ('spambayes', 0.0017543859649122807, 0.051585014409221905), ('users', 0.0017543859649122807, 0.03544668587896253), ('zzzzteana', 0.0017543859649122807, 0.02968299711815562), ('razor', 0.0017543859649122807, 0.02968299711815562)]\n"
     ]
    }
   ],
   "source": [
    "#najwieksze prawdopodbienstwo spamu\n",
    "spammiest_words = words[-5:]\n",
    "#najwieksze prawdopodobienstwo ze nie jest spamem\n",
    "hammiest_words = words[:5]\n",
    "print('najwieksze prawdopodbienstwo spamu')\n",
    "print(\"spammiest_words\", spammiest_words,'\\n')\n",
    "print('najwieksze prawdopodbienstwo ze nie jest spamem')\n",
    "print(\"hammiest_words\", hammiest_words)"
   ]
  },
  {
   "cell_type": "code",
   "execution_count": null,
   "metadata": {},
   "outputs": [],
   "source": []
  }
 ],
 "metadata": {
  "kernelspec": {
   "display_name": "Python 3",
   "language": "python",
   "name": "python3"
  },
  "language_info": {
   "codemirror_mode": {
    "name": "ipython",
    "version": 3
   },
   "file_extension": ".py",
   "mimetype": "text/x-python",
   "name": "python",
   "nbconvert_exporter": "python",
   "pygments_lexer": "ipython3",
   "version": "3.7.4"
  }
 },
 "nbformat": 4,
 "nbformat_minor": 4
}
