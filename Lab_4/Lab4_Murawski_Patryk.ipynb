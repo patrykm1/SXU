{
 "cells": [
  {
   "cell_type": "code",
   "execution_count": 1,
   "metadata": {},
   "outputs": [],
   "source": [
    "from openpyxl import Workbook\n",
    "from bs4 import BeautifulSoup\n",
    "import random\n",
    "import string\n",
    "import requests"
   ]
  },
  {
   "cell_type": "code",
   "execution_count": 2,
   "metadata": {},
   "outputs": [],
   "source": [
    "wb = Workbook()\n",
    "gielda = wb.create_sheet(\"Giełda\",0)\n",
    "linki = wb.create_sheet(\"Linki\",1)\n",
    "filmweb = wb.create_sheet(\"Filmweb\",2)\n",
    "wb.remove(wb['Sheet'])\n",
    "wb.save('Lab4_Murawski.xlsx')"
   ]
  },
  {
   "cell_type": "code",
   "execution_count": 3,
   "metadata": {},
   "outputs": [
    {
     "name": "stdout",
     "output_type": "stream",
     "text": [
      "szukam dalej\n",
      "szukam dalej\n",
      "['HEV20.F', 'XAGARS', 'ZSL.US', 'SMAR.US', 'NMFC.US']\n"
     ]
    }
   ],
   "source": [
    "shortcuts = []\n",
    "\n",
    "def shortcut(stringLength=3):\n",
    "    letters = string.ascii_lowercase\n",
    "    return ''.join(random.choice(letters) for i in range(stringLength))\n",
    "\n",
    "def extract(company_name):\n",
    "    start = \"(\"\n",
    "    end = \")\"\n",
    "    return company_name[company_name.find(start)+len(start):company_name.rfind(end)]\n",
    "\n",
    "def exchange():    \n",
    "    test = shortcut()\n",
    "    req = requests.get(\"https://stooq.pl/q/?s=\"+test)\n",
    "    req2 = requests.get(\"https://stooq.pl/q/s/?e=\"+test+\"&t=\")\n",
    "    soup = BeautifulSoup(req.text, 'html.parser')        \n",
    "    soup2 = BeautifulSoup(req2.text, 'html.parser')\n",
    "    try:\n",
    "        result = soup.find(text=\"Kurs\")\n",
    "        result2 = soup2.find('font',id='f16').find('i').find('a',href=True)\n",
    "        if result:\n",
    "            shortcuts.append(test)\n",
    "        elif result2:\n",
    "            r = result2.text\n",
    "            shortcuts.append(extract(r))    \n",
    "    except:\n",
    "        print('szukam dalej')\n",
    "while len(shortcuts) < 5:        \n",
    "    exchange()\n",
    "\n",
    "print(shortcuts)\n",
    "gielda['A1'] = 'Symbol'\n",
    "gielda['A2'] = 'Kurs'\n",
    "gielda['A3'] = 'Zmiana'\n",
    "gielda['A4'] = 'Transakcje'\n",
    "for s in shortcuts:\n",
    "    req = requests.get(\"https://stooq.pl/q/?s=\"+s)\n",
    "    soup = BeautifulSoup(req.text, 'html.parser')\n",
    "    i = shortcuts.index(s)\n",
    "    gielda.cell(row=1,column=i+2,value=s)\n",
    "    try:\n",
    "        znak = soup.find(text=\"Kurs\").parent.find(\"a\",href=True).text\n",
    "        gielda.cell(row=2, column=i+2).value = soup.find(text=\"Kurs\").parent.find(\"span\").text + znak\n",
    "    except:\n",
    "        gielda.cell(row=2, column=i+2).value = soup.find(text=\"Kurs\").parent.find(\"span\").text\n",
    "    gielda.cell(row=3,column=i+2).value = soup.find(text=\"Zmiana\").parent.find(\"span\").text\n",
    "    gielda.cell(row=4,column=i+2).value = soup.find(text=\"Transakcje\").parent.find(\"span\").text\n",
    "\n",
    "wb.save('Lab4_Murawski.xlsx')   "
   ]
  },
  {
   "cell_type": "code",
   "execution_count": 4,
   "metadata": {},
   "outputs": [],
   "source": [
    "links=[]\n",
    "req = requests.get(\"http://wniuo.amw.gdynia.pl\")\n",
    "soup = BeautifulSoup(req.text,'html.parser')\n",
    "for link in soup.findAll('a'):\n",
    "    links.append(link.get('href'))\n",
    "for l in links:\n",
    "    i = links.index(l)\n",
    "    linki.cell(row=i+1,column=1).value = l\n",
    "wb.save('Lab4_Murawski.xlsx')"
   ]
  },
  {
   "cell_type": "code",
   "execution_count": 5,
   "metadata": {},
   "outputs": [
    {
     "name": "stdout",
     "output_type": "stream",
     "text": [
      "tytuł: Władca Pierścieni: Drużyna Pierścienia,\n",
      "ocena: 8.0,\n",
      "reżyseria:   Peter Jackson ,\n",
      "premiera:   10 grudnia 2001 (świat)  ,\n",
      "boxoffice: $871 530 324 na świecie$315 544 750 w USA$555 985 574 poza USA\n"
     ]
    }
   ],
   "source": [
    "req = requests.get(\"https://www.filmweb.pl/Wladca.Pierscieni.Druzyna.Pierscienia\")\n",
    "soup = BeautifulSoup(req.text, 'html.parser')\n",
    "filmweb.cell(row=1,column=1).value = 'Tytuł'\n",
    "filmweb.cell(row=2,column=1).value = 'Reżyser'\n",
    "filmweb.cell(row=3,column=1).value = 'Premiera'\n",
    "filmweb.cell(row=4,column=1).value = 'Boxoffice'\n",
    "filmweb.cell(row=5,column=1).value = 'Ocena'\n",
    "\n",
    "title = filmweb.cell(row=1,column=2).value =soup.find('h1',itemprop=\"name\").find('a').text\n",
    "direction = filmweb.cell(row=2,column=2).value = soup.find(text=\"reżyseria\").next_element.find(\"a\").text\n",
    "premiere = filmweb.cell(row=3,column=2).value = soup.find(text=\"premiera\").next_element.find(\"a\").text\n",
    "boxoffice = soup.find(text=\"boxoffice\").next_element.text\n",
    "boxoffice = filmweb.cell(row=4,column=2).value = boxoffice.replace('top #27','')\n",
    "rate = filmweb.cell(row=5,column=2).value = float(soup.find(\"span\", itemprop=\"ratingValue\").text.replace(\",\", \".\"))\n",
    "\n",
    "print(f\"tytuł: {title},\\nocena: {rate},\\nreżyseria: {direction},\\npremiera: {premiere},\\nboxoffice: {boxoffice}\")\n",
    "wb.save('Lab4_Murawski.xlsx')"
   ]
  },
  {
   "cell_type": "code",
   "execution_count": null,
   "metadata": {},
   "outputs": [],
   "source": []
  }
 ],
 "metadata": {
  "kernelspec": {
   "display_name": "Python 3",
   "language": "python",
   "name": "python3"
  },
  "language_info": {
   "codemirror_mode": {
    "name": "ipython",
    "version": 3
   },
   "file_extension": ".py",
   "mimetype": "text/x-python",
   "name": "python",
   "nbconvert_exporter": "python",
   "pygments_lexer": "ipython3",
   "version": "3.7.4"
  }
 },
 "nbformat": 4,
 "nbformat_minor": 4
}
